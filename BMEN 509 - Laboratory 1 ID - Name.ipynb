{
 "cells": [
  {
   "cell_type": "markdown",
   "metadata": {},
   "source": [
    "# BMEN 509 - Laboratory 1 - Image Domain\n",
    "The purpose of this laboratory is to become familiar with digital images and how to work with images.\n",
    "In this exercise, you will demonstrate 1) a basic understanding of digital image representation, 2)\n",
    "an ability to perform simple operations on images, and 3) an understanding of fundamental image\n",
    "processing techniques.\n",
    "\n",
    "Your rubric is as follows:\n",
    "<img src=\"NotebookImages/Rubric.png\" alt=\"Rubric\" width=\"600\"/>\n",
    "\n",
    "Please use this notebook to complete your assignment. Sections to be completed are blank and are marked by `TODO`. Please upload the notebook (.ipynn) and as a PDF (.pdf) by using File > Download as > PDF via LaTeX."
   ]
  },
  {
   "cell_type": "markdown",
   "metadata": {},
   "source": [
    "TODO: Bryce A. Besler, November 19th, 2018\n",
    "\n",
    "### Objective\n",
    "TODO"
   ]
  },
  {
   "cell_type": "markdown",
   "metadata": {},
   "source": [
    "## Notebook Setup"
   ]
  },
  {
   "cell_type": "code",
   "execution_count": null,
   "metadata": {},
   "outputs": [],
   "source": [
    "# Library Imports\n",
    "import os\n",
    "import numpy as np\n",
    "import matplotlib.pyplot as plt\n",
    "from skimage import io\n",
    "from scipy import signal, ndimage\n",
    "\n",
    "# Setup Jupyter notebook specifics\n",
    "%matplotlib inline\n",
    "\n",
    "# Numpy printing help\n",
    "np.set_printoptions(precision=2)"
   ]
  },
  {
   "cell_type": "code",
   "execution_count": null,
   "metadata": {},
   "outputs": [],
   "source": [
    "# Constants\n",
    "data_directory = os.path.join('.', 'Data')\n",
    "file_names = [\n",
    "    'BreastUltrasound5.tif', 'T1Weighted8.jpg',\n",
    "    'Thorax_PD.png', 'calcs_grids.tiff',\n",
    "    'knee_ct2.tif', 'knee_xray2.tif',\n",
    "    'mri_T2.tif', 'mri_brain.tif',\n",
    "    'mri_pd.tif'\n",
    "]"
   ]
  },
  {
   "cell_type": "code",
   "execution_count": null,
   "metadata": {},
   "outputs": [],
   "source": [
    "# Verify we can find our files\n",
    "for file_name in file_names:\n",
    "    name = os.path.join(data_directory, file_name)\n",
    "    if not os.path.isfile(name):\n",
    "        os.sys.exit('Cannot find file {}. Please make sure you have downloaded the data'.format(name))\n",
    "print('Found all image files!')"
   ]
  },
  {
   "cell_type": "markdown",
   "metadata": {},
   "source": [
    "## Question 1 - Image Basics\n",
    "Using the image BreastUltrasound5.tif do the following:\n",
    "1. Load the image\n",
    "2. Display the image\n",
    "3. Give the image a title, x-axis label, y-axis label, and add a colorbar\n",
    "4. What is the size of the image in the X and Y dimensions?\n",
    "5. How many pixels are in the image?\n",
    "6. Which corner of the image is the pixel (0,0)?\n",
    "7. Plot the histogram of the image with 256 bins"
   ]
  },
  {
   "cell_type": "code",
   "execution_count": null,
   "metadata": {},
   "outputs": [],
   "source": [
    "# TODO: Implement"
   ]
  },
  {
   "cell_type": "markdown",
   "metadata": {},
   "source": [
    "## Question 2 - Transfer Functions\n",
    "Window and Level is a common technique for visualizing biomedical images. You can visualize\n",
    "specific tissues by expanding the contrast in a narrow range of gray values while ignore all other\n",
    "gray values. Window and Level is easy to implement as a simple transfer function, given below.\n",
    "\n",
    "<img src=\"NotebookImages/TransferFunction.jpg\" alt=\"Transfer Function\" width=\"400\"/>\n",
    "\n",
    "The linear transform is given by:\n",
    "\n",
    "$$ J(x,y) = m * I(x,y) + b $$\n",
    "\n",
    "Determine how to calculate m and b. If you get stuck, refer to the laboratory notes. Write a function\n",
    "`window_level_function` that takes as input an image, a window, and a level and returns as output an image that has been\n",
    "windowed and levelled. The output image should be an 8-bit unsigned integer.\n",
    "The input image will need to be converted to a double and you will have to convert the output\n",
    "image to an unsigned 8-bit integer. Remember that the maximum value for an 8-bit unsigned integer\n",
    "is 255.\n",
    "\n",
    "The code below loads the image `mri_T2.tif`. Using your function, it displays the image and its histogram at the\n",
    "following windows and levels. The corresponding tissue for each window and level is given on the\n",
    "right.\n",
    "\n",
    "| Tissue | Window | Level |\n",
    "|:------ |:------:|:-----:|\n",
    "|Whole dynamic range|255|128|\n",
    "|High contrast between white and gray matter|50|50|\n",
    "|Background|10|20|\n",
    "|Tumour|50|100|\n",
    "\n",
    "After writing your function and running the given code, answer the following questions:\n",
    "\n",
    "    1) Compare the histogram of the second window level transformation (W=50, L=50) to the histogram of the first window level transformation (W=255, L=128). Which values were truncated in the second window level transformation?\n",
    "    2) In your own words, why does windowing and levelling allow us to see different tissues?"
   ]
  },
  {
   "cell_type": "code",
   "execution_count": null,
   "metadata": {},
   "outputs": [],
   "source": [
    "def window_level_function(image, window, level):\n",
    "    # TODO: Implement this function\n",
    "    \n",
    "    return image.astype(np.uint8)"
   ]
  },
  {
   "cell_type": "code",
   "execution_count": null,
   "metadata": {
    "scrolled": false
   },
   "outputs": [],
   "source": [
    "image = io.imread(os.path.join(data_directory, 'mri_T2.tif'))\n",
    "\n",
    "pairs = {\n",
    "    'Whole dynamic range':             (255, 128),\n",
    "    'High contrast between WM and GM': (50, 50),\n",
    "    'Background':                      (10, 20),\n",
    "    'Tumour':                          (50, 100)\n",
    "}\n",
    "\n",
    "i = 1\n",
    "plt.subplots(len(pairs), 2, figsize=(20,10))\n",
    "for key in pairs:\n",
    "    window, level = pairs[key]\n",
    "\n",
    "    new_image = window_level_function(image, window, level)\n",
    "    \n",
    "    plt.subplot(len(pairs), 2, 2*i-1)\n",
    "    plt.imshow(new_image, cmap='gray')\n",
    "    plt.title('{} with (W/L) = ({}/{})'.format(key, window, level))\n",
    "    plt.xticks([])\n",
    "    plt.yticks([])\n",
    "\n",
    "    plt.subplot(len(pairs), 2, 2*i)\n",
    "    plt.hist(new_image.ravel(), bins=256)\n",
    "    \n",
    "    i += 1\n",
    "plt.show()\n",
    "\n",
    "print('''Question 1: Compare the histogram of the second window level transformation (W=50, L=50) to the histogram of the first window level transformation (W=255, L=128). Which values were truncated in the second window level transformation?\n",
    "TODO: Answer\n",
    "''')\n",
    "\n",
    "print('''Question 2: In your own words, why does windowing and levelling allow us to see different tissues?\n",
    "TODO: Answer\n",
    "''')"
   ]
  },
  {
   "cell_type": "markdown",
   "metadata": {},
   "source": [
    "## Question 3 - Exploring a Gaussian Function\n",
    "The Gaussian filter is one of the most powerful filters in image processing. Here, we are going to\n",
    "explore the effects of changing the kernel size and the response size of a Gaussian filter to better\n",
    "understand the parameters.\n",
    "\n",
    "The code below loads the image `knee_ct2.tif` and displays the image. Next, it filters the image with a sigma of 2\n",
    "and at five different kernel sizes: 3, 5, 7, 21 and 51. Next, it filters the image with a kernel size of 21\n",
    "and at five different sigmas: 0.5, 1, 2, 3, 5. Plot the filtered image for all 11 responses.\n",
    "\n",
    "Your objective is to write the function `gaussian_kernel`. This function creates a Gaussian kernel using the equation:\n",
    "\n",
    "$$ J(x,y) = \\frac{1}{\\sqrt{2 \\pi} \\sigma} exp\\left( - \\frac{(x-\\mu_x)^2 + (x-\\mu_y)^2}{2 \\sigma^2} \\right) $$\n",
    "\n",
    "where $\\sigma$ determines the frequency response of the fitler and $(\\mu_x, \\mu_y)$ are the centers of the kernel. Note that the kernel size is also a parameter!\n",
    "\n",
    "If you need help conceptualizing image convolution, I would recommend [Image Kernels Explained Visually](http://setosa.io/ev/image-kernels/).\n",
    "\n",
    "In your own words, answer the following questions:\n",
    "1. What is the effect of increasing the kernel size but keeping sigma constant?\n",
    "2. What is the effect of increasing the sigma but keeping the kernel size constant?\n",
    "3. Often a Gaussian filter is used to filter noise in an image. How should the parameters (sigma, kernel size) be chosen for filtering noise?\n",
    "4. What is the disadvantage of making the kernel extremely large?"
   ]
  },
  {
   "cell_type": "code",
   "execution_count": null,
   "metadata": {
    "scrolled": false
   },
   "outputs": [],
   "source": [
    "def gaussian_kernel(sigma, kernel_size): \n",
    "    # TODO: Implement this function\n",
    "    \n",
    "    return np.ones((kernel_size, kernel_size))"
   ]
  },
  {
   "cell_type": "code",
   "execution_count": null,
   "metadata": {},
   "outputs": [],
   "source": [
    "# Load image\n",
    "image = io.imread(os.path.join(data_directory, 'knee_ct2.tif'))"
   ]
  },
  {
   "cell_type": "code",
   "execution_count": null,
   "metadata": {},
   "outputs": [],
   "source": [
    "# Create kernels\n",
    "sigmas = [0.5, 1, 2, 3, 5]\n",
    "kernels = [3, 5, 7, 21, 51]\n",
    "\n",
    "plt.subplots(len(sigmas), len(kernels), figsize=(7, 7))\n",
    "for i, sigma in enumerate(sigmas):\n",
    "    for j, kernel in enumerate(kernels):\n",
    "            gauss = gaussian_kernel(sigma, kernel)\n",
    "\n",
    "            plt.subplot(len(sigmas), len(kernels), j + i * len(sigmas) + 1)\n",
    "            plt.imshow(gauss, cmap='gray')\n",
    "            plt.title('Sigma = {} \\n Kernel = {}'.format(sigma, kernel), fontsize=10)\n",
    "            plt.xticks([])\n",
    "            plt.yticks([])\n",
    "plt.subplots_adjust(top = 1.2)\n",
    "plt.show()"
   ]
  },
  {
   "cell_type": "code",
   "execution_count": null,
   "metadata": {
    "scrolled": false
   },
   "outputs": [],
   "source": [
    "sigma = []\n",
    "kernel = []\n",
    "\n",
    "# Kernel sizes\n",
    "sigma = 1\n",
    "kernels = [3, 5, 7, 21, 51]\n",
    "\n",
    "plt.subplots(2, (len(kernels)+1)//2, figsize=(30, 15))\n",
    "plt.subplot(2, (len(kernels)+1)//2, 1)\n",
    "plt.imshow(image, cmap='gray')\n",
    "plt.title('Original')\n",
    "plt.xticks([])\n",
    "plt.yticks([])\n",
    "i = 2\n",
    "for kernel in kernels:\n",
    "    gauss = gaussian_kernel(sigma, kernel)\n",
    "    smooth_image = signal.convolve2d(image, gauss, boundary='pad', mode='same')\n",
    "\n",
    "    plt.subplot(2, (len(kernels)+1)//2, i)\n",
    "    plt.imshow(smooth_image, cmap='gray')\n",
    "    plt.title('Sigma = {}, Kernel = {}'.format(sigma, kernel))\n",
    "    plt.xticks([])\n",
    "    plt.yticks([])\n",
    "\n",
    "    i += 1\n",
    "plt.show()"
   ]
  },
  {
   "cell_type": "code",
   "execution_count": null,
   "metadata": {},
   "outputs": [],
   "source": [
    "sigma = []\n",
    "kernel = []\n",
    "\n",
    "# Sigmas\n",
    "sigmas = [0.5, 1, 2, 3, 5]\n",
    "kernel = 21\n",
    "\n",
    "plt.subplots(2, (len(kernels)+1)//2, figsize=(30, 15))\n",
    "plt.subplot(2, (len(kernels)+1)//2, 1)\n",
    "plt.imshow(image, cmap='gray')\n",
    "plt.title('Original')\n",
    "plt.xticks([])\n",
    "plt.yticks([])\n",
    "i = 2\n",
    "for sigma in sigmas:\n",
    "    gauss = gaussian_kernel(sigma, kernel)\n",
    "    smooth = signal.convolve2d(image, gauss, boundary='pad', mode='same')\n",
    "    \n",
    "    plt.subplot(2, (len(kernels)+1)//2, i)\n",
    "    plt.imshow(smooth, cmap='gray')\n",
    "    plt.title('Sigma = {}, Kernel = {}'.format(sigma, kernel))\n",
    "    plt.xticks([])\n",
    "    plt.yticks([])\n",
    "\n",
    "    i += 1\n",
    "    \n",
    "plt.show()"
   ]
  },
  {
   "cell_type": "code",
   "execution_count": null,
   "metadata": {
    "scrolled": false
   },
   "outputs": [],
   "source": [
    "print('''Question 1. What is the effect of increasing the kernel size but keeping sigma constant?\n",
    "TODO: Answer\n",
    "''')\n",
    "\n",
    "print('''Question 2. What is the effect of increasing the sigma but keeping the kernel size constant?\n",
    "TODO: Answer\n",
    "''')\n",
    "\n",
    "print('''Question 3. Often a Gaussian filter is used to filter noise in an image. How should the parameters (sigma, kernel size) be chosen for filtering noise?\n",
    "TODO: Answer\n",
    "''')\n",
    "\n",
    "print('''Question 4. What is the disadvantage of making the kernel extremely large?\n",
    "TODO: Answer\n",
    "''')\n"
   ]
  },
  {
   "cell_type": "markdown",
   "metadata": {},
   "source": [
    "## Question 4 - Understanding Signal, Noise, and Contrast\n",
    "Qualitative description and quantitative metrics are complementary tools for assessing image processing algorithms. Metrics are free from observer variability, but can fail to capture nuance. In\n",
    "this section, we are going to repeat the Gaussian and use the median filtering (see Lab01Ex05) but\n",
    "include metrics for signal-to-noise ratio (SNR) and contrast-to-noise ratio (CNR).\n",
    "Using the image `mri_pd.tif`, the code below does the following:\n",
    "1. Loads the image and add salt and pepper noise (with noise density 0.1) and Gaussian noise (with mean 0, variance 0.01)\n",
    "2. Filters the resulting noisy images with a median filter and a Gaussian filter with sigma 3\n",
    "3. Selects two points on the image to compare contrast.\n",
    "4. Computes the SNR for the image, the CNR for the two points, and plots the points and the images together.\n",
    "5. Produces an image similar to the following, where the red and green points are the indices passed to the function.\n",
    "\n",
    "<img src=\"NotebookImages/Brain.png\" alt=\"Brain\" width=\"400\"/>\n",
    "\n",
    "6. Plots the original image, the image with salt and pepper noise, and the image with Gaussian noise\n",
    "7. Plots the salt and pepper noise image after median filtering and after Gaussian filtering\n",
    "8. Plots the Gaussian noise image after median filtering and after Gaussian filtering\n",
    "\n",
    "Your task is to write the functions `SNR` and `CNR` functions. Additionally, answer the following questions:\n",
    "1. Qualitatively compare the original image to the Gaussian and salt and pepper noise images. What is the difference between Gaussian noise and salt and pepper noise?\n",
    "2. Compare the median and Gaussian filtered salt and pepper noise images. Which filter produced the best CNR? Which filter produced the best SNR? From the perspective of a radiologist, which filter produced a qualitatively better image?\n",
    "3. Compare the median and Gaussian filtered Gaussian noise images. Which filter produced the best CNR? Which filter produced the best SNR? From the perspective of a radiologist, which filter produced a qualitatively better image?\n",
    "4. Does the best qualitative result always agree with the best numerical result? Why is it wise to visualize your images and not just rely on metrics?"
   ]
  },
  {
   "cell_type": "code",
   "execution_count": null,
   "metadata": {},
   "outputs": [],
   "source": [
    "def SNR(image):\n",
    "    # TODO: Implement\n",
    "    \n",
    "    return 0\n",
    "\n",
    "def CNR(image, first_point, second_point):\n",
    "    # TODO: Implement\n",
    "    \n",
    "    return 0"
   ]
  },
  {
   "cell_type": "code",
   "execution_count": null,
   "metadata": {},
   "outputs": [],
   "source": [
    "def add_gaussian_noise(image, mean, var):\n",
    "    # Express the variance as a percentage of the data type\n",
    "    std = np.sqrt(var)*(np.iinfo(image.dtype).max - np.iinfo(image.dtype).min)\n",
    "    noise = std * np.random.randn(*image.shape) + mean\n",
    "    return image + noise\n",
    "\n",
    "def add_salt_and_pepper_noise(image, density):\n",
    "    # Draw random var. With probability p, ceil at bottom. With probability p, floor at top\n",
    "    probability = density / 2.0\n",
    "    \n",
    "    rand_image = np.random.rand(*image.shape)\n",
    "    output = image.copy()\n",
    "    output[ rand_image < probability ] = np.iinfo(image.dtype).min\n",
    "    output[ np.logical_and(rand_image >= probability, rand_image < density) ] = np.iinfo(image.dtype).max\n",
    "    \n",
    "    return output"
   ]
  },
  {
   "cell_type": "code",
   "execution_count": null,
   "metadata": {},
   "outputs": [],
   "source": [
    "def plot_image_with_point(image, first_point, second_point, show=True):\n",
    "    plt.imshow(image, cmap='gray')\n",
    "    plt.scatter(first_point[0], first_point[1], c='g', s=20*4**2)\n",
    "    plt.scatter(second_point[0], second_point[1], c='y', s=20*4**2)\n",
    "    plt.title('SNR = {0:0.2f}, CNR = {1:0.2f}'.format(\n",
    "        SNR(image),\n",
    "        CNR(image, first_point, second_point)\n",
    "    ))\n",
    "    plt.xticks([])\n",
    "    plt.yticks([])\n",
    "    \n",
    "    if show:\n",
    "        plt.show()"
   ]
  },
  {
   "cell_type": "code",
   "execution_count": null,
   "metadata": {
    "scrolled": false
   },
   "outputs": [],
   "source": [
    "brain_point = (90, 165)\n",
    "csf_point = (70, 215)\n",
    "\n",
    "image = io.imread(os.path.join(data_directory, 'mri_pd.tif'))\n",
    "\n",
    "gauss_noise = add_gaussian_noise(image, 0, 0.01)\n",
    "med_noise = add_salt_and_pepper_noise(image, 0.1)\n",
    "\n",
    "print('Image and noise')\n",
    "plt.subplots(1, 3, figsize=(30, 10))\n",
    "for i, this_image in enumerate([image, gauss_noise, med_noise]):\n",
    "    plt.subplot(1, 3, i+1)\n",
    "    plot_image_with_point(this_image, brain_point, csf_point, False)\n",
    "plt.show()\n",
    "\n",
    "print('Salt & Pepper Noise')\n",
    "plt.subplots(1, 3, figsize=(30, 10))\n",
    "\n",
    "plt.subplot(1, 3, 1)\n",
    "plot_image_with_point(med_noise, brain_point, csf_point, False)\n",
    "plt.subplot(1, 3, 2)\n",
    "plot_image_with_point(ndimage.filters.gaussian_filter(med_noise, 1), brain_point, csf_point, False)\n",
    "plt.subplot(1, 3, 3)\n",
    "plot_image_with_point(ndimage.filters.median_filter(med_noise, 3), brain_point, csf_point, False)\n",
    "plt.show()\n",
    "\n",
    "\n",
    "print('Gaussian Noise')\n",
    "plt.subplots(1, 3, figsize=(30, 10))\n",
    "\n",
    "plt.subplot(1, 3, 1)\n",
    "plot_image_with_point(gauss_noise, brain_point, csf_point, False)\n",
    "plt.subplot(1, 3, 2)\n",
    "plot_image_with_point(ndimage.filters.gaussian_filter(gauss_noise, 1), brain_point, csf_point, False)\n",
    "plt.subplot(1, 3, 3)\n",
    "plot_image_with_point(ndimage.filters.median_filter(gauss_noise, 3), brain_point, csf_point, False)\n",
    "plt.show()"
   ]
  },
  {
   "cell_type": "code",
   "execution_count": null,
   "metadata": {
    "scrolled": false
   },
   "outputs": [],
   "source": [
    "print('''Question 1. Qualitatively compare the original image to the Gaussian and salt and pepper noise images. What is the difference between Gaussian noise and salt and pepper noise?\n",
    "TODO: Answer\n",
    "''')\n",
    "print('''Question 2. Compare the median and Gaussian filtered salt and pepper noise images. Which filter produced the best CNR? Which filter produced the best SNR? From the perspective of a radiologist, which filter produced a qualitatively better image?\n",
    "TODO: Answer\n",
    "''')\n",
    "print('''Question 3. Compare the median and Gaussian filtered Gaussian noise images. Which filter produced the best CNR? Which filter produced the best SNR? From the perspective of a radiologist, which filter produced a qualitatively better image?\n",
    "TODO: Answer\n",
    "''')\n",
    "print('''Question 4. Does the best qualitative result always agree with the best numerical result? Why is it wise to visualize your images and not just rely on metrics?\n",
    "TODO: Answer\n",
    "''')"
   ]
  },
  {
   "cell_type": "markdown",
   "metadata": {},
   "source": [
    "### Conclusion\n",
    "TODO: Write your conclusion here"
   ]
  },
  {
   "cell_type": "code",
   "execution_count": null,
   "metadata": {},
   "outputs": [],
   "source": []
  }
 ],
 "metadata": {
  "kernelspec": {
   "display_name": "Python 3",
   "language": "python",
   "name": "python3"
  },
  "language_info": {
   "codemirror_mode": {
    "name": "ipython",
    "version": 3
   },
   "file_extension": ".py",
   "mimetype": "text/x-python",
   "name": "python",
   "nbconvert_exporter": "python",
   "pygments_lexer": "ipython3",
   "version": "3.6.8"
  }
 },
 "nbformat": 4,
 "nbformat_minor": 2
}
